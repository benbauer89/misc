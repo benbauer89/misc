{
 "cells": [
  {
   "cell_type": "code",
   "execution_count": 1,
   "metadata": {
    "collapsed": true
   },
   "outputs": [],
   "source": [
    "import pandas as pd"
   ]
  },
  {
   "cell_type": "code",
   "execution_count": 2,
   "metadata": {
    "collapsed": false
   },
   "outputs": [],
   "source": [
    "df = pd.read_csv('C:/Users/Ben Bauer/Desktop/dates.csv', sep = ';') # load toy data"
   ]
  },
  {
   "cell_type": "code",
   "execution_count": 3,
   "metadata": {
    "collapsed": false
   },
   "outputs": [
    {
     "data": {
      "text/html": [
       "<div>\n",
       "<style>\n",
       "    .dataframe thead tr:only-child th {\n",
       "        text-align: right;\n",
       "    }\n",
       "\n",
       "    .dataframe thead th {\n",
       "        text-align: left;\n",
       "    }\n",
       "\n",
       "    .dataframe tbody tr th {\n",
       "        vertical-align: top;\n",
       "    }\n",
       "</style>\n",
       "<table border=\"1\" class=\"dataframe\">\n",
       "  <thead>\n",
       "    <tr style=\"text-align: right;\">\n",
       "      <th></th>\n",
       "      <th>From</th>\n",
       "      <th>To</th>\n",
       "    </tr>\n",
       "  </thead>\n",
       "  <tbody>\n",
       "    <tr>\n",
       "      <th>0</th>\n",
       "      <td>01.01.2017 01:00</td>\n",
       "      <td>01.01.2017 05:32</td>\n",
       "    </tr>\n",
       "    <tr>\n",
       "      <th>1</th>\n",
       "      <td>01.01.2017 23:00</td>\n",
       "      <td>01.02.2017 01:55</td>\n",
       "    </tr>\n",
       "  </tbody>\n",
       "</table>\n",
       "</div>"
      ],
      "text/plain": [
       "               From                To\n",
       "0  01.01.2017 01:00  01.01.2017 05:32\n",
       "1  01.01.2017 23:00  01.02.2017 01:55"
      ]
     },
     "execution_count": 3,
     "metadata": {},
     "output_type": "execute_result"
    }
   ],
   "source": [
    "df"
   ]
  },
  {
   "cell_type": "code",
   "execution_count": 4,
   "metadata": {
    "collapsed": false
   },
   "outputs": [
    {
     "data": {
      "text/plain": [
       "From    object\n",
       "To      object\n",
       "dtype: object"
      ]
     },
     "execution_count": 4,
     "metadata": {},
     "output_type": "execute_result"
    }
   ],
   "source": [
    "df.dtypes # pandas doesn't recognize them as date objects "
   ]
  },
  {
   "cell_type": "code",
   "execution_count": 5,
   "metadata": {
    "collapsed": false
   },
   "outputs": [],
   "source": [
    "# convert them to date types\n",
    "df.From = pd.to_datetime(df.From)\n",
    "df.To = pd.to_datetime(df.To)"
   ]
  },
  {
   "cell_type": "code",
   "execution_count": 6,
   "metadata": {
    "collapsed": false
   },
   "outputs": [
    {
     "data": {
      "text/plain": [
       "0    Sunday\n",
       "1    Sunday\n",
       "Name: From, dtype: object"
      ]
     },
     "execution_count": 6,
     "metadata": {},
     "output_type": "execute_result"
    }
   ],
   "source": [
    "# some functions available to date types (https://pandas.pydata.org/pandas-docs/stable/api.html .dt)\n",
    "df.From.dt.weekday_name"
   ]
  },
  {
   "cell_type": "code",
   "execution_count": 7,
   "metadata": {
    "collapsed": false
   },
   "outputs": [
    {
     "data": {
      "text/html": [
       "<div>\n",
       "<style>\n",
       "    .dataframe thead tr:only-child th {\n",
       "        text-align: right;\n",
       "    }\n",
       "\n",
       "    .dataframe thead th {\n",
       "        text-align: left;\n",
       "    }\n",
       "\n",
       "    .dataframe tbody tr th {\n",
       "        vertical-align: top;\n",
       "    }\n",
       "</style>\n",
       "<table border=\"1\" class=\"dataframe\">\n",
       "  <thead>\n",
       "    <tr style=\"text-align: right;\">\n",
       "      <th></th>\n",
       "      <th>From</th>\n",
       "      <th>To</th>\n",
       "      <th>default_diff</th>\n",
       "    </tr>\n",
       "  </thead>\n",
       "  <tbody>\n",
       "    <tr>\n",
       "      <th>0</th>\n",
       "      <td>2017-01-01 01:00:00</td>\n",
       "      <td>2017-01-01 05:32:00</td>\n",
       "      <td>04:32:00</td>\n",
       "    </tr>\n",
       "    <tr>\n",
       "      <th>1</th>\n",
       "      <td>2017-01-01 23:00:00</td>\n",
       "      <td>2017-01-02 01:55:00</td>\n",
       "      <td>02:55:00</td>\n",
       "    </tr>\n",
       "  </tbody>\n",
       "</table>\n",
       "</div>"
      ],
      "text/plain": [
       "                 From                  To default_diff\n",
       "0 2017-01-01 01:00:00 2017-01-01 05:32:00     04:32:00\n",
       "1 2017-01-01 23:00:00 2017-01-02 01:55:00     02:55:00"
      ]
     },
     "execution_count": 7,
     "metadata": {},
     "output_type": "execute_result"
    }
   ],
   "source": [
    "df['default_diff'] = df.To - df.From\n",
    "df"
   ]
  },
  {
   "cell_type": "code",
   "execution_count": 8,
   "metadata": {
    "collapsed": false
   },
   "outputs": [
    {
     "data": {
      "text/html": [
       "<div>\n",
       "<style>\n",
       "    .dataframe thead tr:only-child th {\n",
       "        text-align: right;\n",
       "    }\n",
       "\n",
       "    .dataframe thead th {\n",
       "        text-align: left;\n",
       "    }\n",
       "\n",
       "    .dataframe tbody tr th {\n",
       "        vertical-align: top;\n",
       "    }\n",
       "</style>\n",
       "<table border=\"1\" class=\"dataframe\">\n",
       "  <thead>\n",
       "    <tr style=\"text-align: right;\">\n",
       "      <th></th>\n",
       "      <th>From</th>\n",
       "      <th>To</th>\n",
       "      <th>default_diff</th>\n",
       "      <th>minutes</th>\n",
       "    </tr>\n",
       "  </thead>\n",
       "  <tbody>\n",
       "    <tr>\n",
       "      <th>0</th>\n",
       "      <td>2017-01-01 01:00:00</td>\n",
       "      <td>2017-01-01 05:32:00</td>\n",
       "      <td>04:32:00</td>\n",
       "      <td>272.0</td>\n",
       "    </tr>\n",
       "    <tr>\n",
       "      <th>1</th>\n",
       "      <td>2017-01-01 23:00:00</td>\n",
       "      <td>2017-01-02 01:55:00</td>\n",
       "      <td>02:55:00</td>\n",
       "      <td>175.0</td>\n",
       "    </tr>\n",
       "  </tbody>\n",
       "</table>\n",
       "</div>"
      ],
      "text/plain": [
       "                 From                  To default_diff  minutes\n",
       "0 2017-01-01 01:00:00 2017-01-01 05:32:00     04:32:00    272.0\n",
       "1 2017-01-01 23:00:00 2017-01-02 01:55:00     02:55:00    175.0"
      ]
     },
     "execution_count": 8,
     "metadata": {},
     "output_type": "execute_result"
    }
   ],
   "source": [
    "df['minutes'] = (df['To'] - df['From']).dt.seconds/60\n",
    "df"
   ]
  },
  {
   "cell_type": "code",
   "execution_count": 9,
   "metadata": {
    "collapsed": false
   },
   "outputs": [
    {
     "data": {
      "text/html": [
       "<div>\n",
       "<style>\n",
       "    .dataframe thead tr:only-child th {\n",
       "        text-align: right;\n",
       "    }\n",
       "\n",
       "    .dataframe thead th {\n",
       "        text-align: left;\n",
       "    }\n",
       "\n",
       "    .dataframe tbody tr th {\n",
       "        vertical-align: top;\n",
       "    }\n",
       "</style>\n",
       "<table border=\"1\" class=\"dataframe\">\n",
       "  <thead>\n",
       "    <tr style=\"text-align: right;\">\n",
       "      <th></th>\n",
       "      <th>ID</th>\n",
       "      <th>J1</th>\n",
       "      <th>J2</th>\n",
       "    </tr>\n",
       "  </thead>\n",
       "  <tbody>\n",
       "    <tr>\n",
       "      <th>0</th>\n",
       "      <td>1</td>\n",
       "      <td>0</td>\n",
       "      <td>1</td>\n",
       "    </tr>\n",
       "    <tr>\n",
       "      <th>1</th>\n",
       "      <td>2</td>\n",
       "      <td>2</td>\n",
       "      <td>4</td>\n",
       "    </tr>\n",
       "    <tr>\n",
       "      <th>2</th>\n",
       "      <td>3</td>\n",
       "      <td>3</td>\n",
       "      <td>5</td>\n",
       "    </tr>\n",
       "  </tbody>\n",
       "</table>\n",
       "</div>"
      ],
      "text/plain": [
       "  ID  J1  J2\n",
       "0  1   0   1\n",
       "1  2   2   4\n",
       "2  3   3   5"
      ]
     },
     "execution_count": 9,
     "metadata": {},
     "output_type": "execute_result"
    }
   ],
   "source": [
    "### applying function to specific columns\n",
    "df2 = pd.DataFrame({'ID':['1','2','3'], 'J1': [0,2,3], 'J2':[1,4,5]})\n",
    "df2"
   ]
  },
  {
   "cell_type": "code",
   "execution_count": 10,
   "metadata": {
    "collapsed": false
   },
   "outputs": [
    {
     "data": {
      "text/html": [
       "<div>\n",
       "<style>\n",
       "    .dataframe thead tr:only-child th {\n",
       "        text-align: right;\n",
       "    }\n",
       "\n",
       "    .dataframe thead th {\n",
       "        text-align: left;\n",
       "    }\n",
       "\n",
       "    .dataframe tbody tr th {\n",
       "        vertical-align: top;\n",
       "    }\n",
       "</style>\n",
       "<table border=\"1\" class=\"dataframe\">\n",
       "  <thead>\n",
       "    <tr style=\"text-align: right;\">\n",
       "      <th></th>\n",
       "      <th>ID</th>\n",
       "      <th>J1</th>\n",
       "      <th>J2</th>\n",
       "      <th>col_3</th>\n",
       "    </tr>\n",
       "  </thead>\n",
       "  <tbody>\n",
       "    <tr>\n",
       "      <th>0</th>\n",
       "      <td>1</td>\n",
       "      <td>0</td>\n",
       "      <td>1</td>\n",
       "      <td>1</td>\n",
       "    </tr>\n",
       "    <tr>\n",
       "      <th>1</th>\n",
       "      <td>2</td>\n",
       "      <td>2</td>\n",
       "      <td>4</td>\n",
       "      <td>6</td>\n",
       "    </tr>\n",
       "    <tr>\n",
       "      <th>2</th>\n",
       "      <td>3</td>\n",
       "      <td>3</td>\n",
       "      <td>5</td>\n",
       "      <td>8</td>\n",
       "    </tr>\n",
       "  </tbody>\n",
       "</table>\n",
       "</div>"
      ],
      "text/plain": [
       "  ID  J1  J2  col_3\n",
       "0  1   0   1      1\n",
       "1  2   2   4      6\n",
       "2  3   3   5      8"
      ]
     },
     "execution_count": 10,
     "metadata": {},
     "output_type": "execute_result"
    }
   ],
   "source": [
    "def f(x,y):\n",
    "    return x + y\n",
    "\n",
    "df2['col_3'] = df2[['J1','J2']].apply(lambda x: f(*x), axis=1)\n",
    "df2"
   ]
  },
  {
   "cell_type": "code",
   "execution_count": 11,
   "metadata": {
    "collapsed": false
   },
   "outputs": [
    {
     "data": {
      "text/html": [
       "<div>\n",
       "<style>\n",
       "    .dataframe thead tr:only-child th {\n",
       "        text-align: right;\n",
       "    }\n",
       "\n",
       "    .dataframe thead th {\n",
       "        text-align: left;\n",
       "    }\n",
       "\n",
       "    .dataframe tbody tr th {\n",
       "        vertical-align: top;\n",
       "    }\n",
       "</style>\n",
       "<table border=\"1\" class=\"dataframe\">\n",
       "  <thead>\n",
       "    <tr style=\"text-align: right;\">\n",
       "      <th></th>\n",
       "      <th>From</th>\n",
       "      <th>To</th>\n",
       "    </tr>\n",
       "  </thead>\n",
       "  <tbody>\n",
       "    <tr>\n",
       "      <th>0</th>\n",
       "      <td>2017-01-01 23:00:00</td>\n",
       "      <td>2017-01-01 23:15:00</td>\n",
       "    </tr>\n",
       "    <tr>\n",
       "      <th>1</th>\n",
       "      <td>2017-01-01 23:15:00</td>\n",
       "      <td>2017-01-01 23:30:00</td>\n",
       "    </tr>\n",
       "    <tr>\n",
       "      <th>2</th>\n",
       "      <td>2017-01-01 23:30:00</td>\n",
       "      <td>2017-01-01 23:45:00</td>\n",
       "    </tr>\n",
       "    <tr>\n",
       "      <th>3</th>\n",
       "      <td>2017-01-01 23:45:00</td>\n",
       "      <td>2017-01-02 00:00:00</td>\n",
       "    </tr>\n",
       "    <tr>\n",
       "      <th>4</th>\n",
       "      <td>2017-01-02 00:00:00</td>\n",
       "      <td>2017-01-02 00:15:00</td>\n",
       "    </tr>\n",
       "    <tr>\n",
       "      <th>5</th>\n",
       "      <td>2017-01-02 00:15:00</td>\n",
       "      <td>2017-01-02 00:30:00</td>\n",
       "    </tr>\n",
       "    <tr>\n",
       "      <th>6</th>\n",
       "      <td>2017-01-02 00:30:00</td>\n",
       "      <td>2017-01-02 00:45:00</td>\n",
       "    </tr>\n",
       "    <tr>\n",
       "      <th>7</th>\n",
       "      <td>2017-01-02 00:45:00</td>\n",
       "      <td>2017-01-02 01:00:00</td>\n",
       "    </tr>\n",
       "    <tr>\n",
       "      <th>8</th>\n",
       "      <td>2017-01-02 01:00:00</td>\n",
       "      <td>2017-01-02 01:15:00</td>\n",
       "    </tr>\n",
       "    <tr>\n",
       "      <th>9</th>\n",
       "      <td>2017-01-02 01:15:00</td>\n",
       "      <td>2017-01-02 01:30:00</td>\n",
       "    </tr>\n",
       "    <tr>\n",
       "      <th>10</th>\n",
       "      <td>2017-01-02 01:30:00</td>\n",
       "      <td>2017-01-02 01:45:00</td>\n",
       "    </tr>\n",
       "    <tr>\n",
       "      <th>11</th>\n",
       "      <td>2017-01-02 01:45:00</td>\n",
       "      <td>2017-01-02 02:00:00</td>\n",
       "    </tr>\n",
       "  </tbody>\n",
       "</table>\n",
       "</div>"
      ],
      "text/plain": [
       "                  From                  To\n",
       "0  2017-01-01 23:00:00 2017-01-01 23:15:00\n",
       "1  2017-01-01 23:15:00 2017-01-01 23:30:00\n",
       "2  2017-01-01 23:30:00 2017-01-01 23:45:00\n",
       "3  2017-01-01 23:45:00 2017-01-02 00:00:00\n",
       "4  2017-01-02 00:00:00 2017-01-02 00:15:00\n",
       "5  2017-01-02 00:15:00 2017-01-02 00:30:00\n",
       "6  2017-01-02 00:30:00 2017-01-02 00:45:00\n",
       "7  2017-01-02 00:45:00 2017-01-02 01:00:00\n",
       "8  2017-01-02 01:00:00 2017-01-02 01:15:00\n",
       "9  2017-01-02 01:15:00 2017-01-02 01:30:00\n",
       "10 2017-01-02 01:30:00 2017-01-02 01:45:00\n",
       "11 2017-01-02 01:45:00 2017-01-02 02:00:00"
      ]
     },
     "execution_count": 11,
     "metadata": {},
     "output_type": "execute_result"
    }
   ],
   "source": [
    "# works for one row\n",
    "def fun(x, y, z=15):\n",
    "    if 60%z != 0:\n",
    "        return 'please chose a number that is divisible by 60'\n",
    "    else:\n",
    "    \n",
    "        start = []\n",
    "        end = []\n",
    "        while (x - y).total_seconds()/60 >= 0:\n",
    "            y = y+pd.Timedelta(seconds=60*z)\n",
    "            start.append(y-pd.Timedelta(seconds=60*z))\n",
    "            end.append(y)\n",
    "    return pd.DataFrame.from_dict({'From': start, 'To': end}, orient='columns')\n",
    "\n",
    "fun(df.To[1],df.From[1], 15)"
   ]
  },
  {
   "cell_type": "code",
   "execution_count": 13,
   "metadata": {
    "collapsed": false
   },
   "outputs": [
    {
     "data": {
      "text/html": [
       "<div>\n",
       "<style>\n",
       "    .dataframe thead tr:only-child th {\n",
       "        text-align: right;\n",
       "    }\n",
       "\n",
       "    .dataframe thead th {\n",
       "        text-align: left;\n",
       "    }\n",
       "\n",
       "    .dataframe tbody tr th {\n",
       "        vertical-align: top;\n",
       "    }\n",
       "</style>\n",
       "<table border=\"1\" class=\"dataframe\">\n",
       "  <thead>\n",
       "    <tr style=\"text-align: right;\">\n",
       "      <th></th>\n",
       "      <th>From</th>\n",
       "      <th>To</th>\n",
       "    </tr>\n",
       "  </thead>\n",
       "  <tbody>\n",
       "    <tr>\n",
       "      <th>0</th>\n",
       "      <td>2017-01-01 01:00:00</td>\n",
       "      <td>2017-01-01 01:15:00</td>\n",
       "    </tr>\n",
       "    <tr>\n",
       "      <th>1</th>\n",
       "      <td>2017-01-01 01:15:00</td>\n",
       "      <td>2017-01-01 01:30:00</td>\n",
       "    </tr>\n",
       "    <tr>\n",
       "      <th>2</th>\n",
       "      <td>2017-01-01 01:30:00</td>\n",
       "      <td>2017-01-01 01:45:00</td>\n",
       "    </tr>\n",
       "    <tr>\n",
       "      <th>3</th>\n",
       "      <td>2017-01-01 01:45:00</td>\n",
       "      <td>2017-01-01 02:00:00</td>\n",
       "    </tr>\n",
       "    <tr>\n",
       "      <th>4</th>\n",
       "      <td>2017-01-01 02:00:00</td>\n",
       "      <td>2017-01-01 02:15:00</td>\n",
       "    </tr>\n",
       "    <tr>\n",
       "      <th>5</th>\n",
       "      <td>2017-01-01 02:15:00</td>\n",
       "      <td>2017-01-01 02:30:00</td>\n",
       "    </tr>\n",
       "    <tr>\n",
       "      <th>6</th>\n",
       "      <td>2017-01-01 02:30:00</td>\n",
       "      <td>2017-01-01 02:45:00</td>\n",
       "    </tr>\n",
       "    <tr>\n",
       "      <th>7</th>\n",
       "      <td>2017-01-01 02:45:00</td>\n",
       "      <td>2017-01-01 03:00:00</td>\n",
       "    </tr>\n",
       "    <tr>\n",
       "      <th>8</th>\n",
       "      <td>2017-01-01 03:00:00</td>\n",
       "      <td>2017-01-01 03:15:00</td>\n",
       "    </tr>\n",
       "    <tr>\n",
       "      <th>9</th>\n",
       "      <td>2017-01-01 03:15:00</td>\n",
       "      <td>2017-01-01 03:30:00</td>\n",
       "    </tr>\n",
       "    <tr>\n",
       "      <th>10</th>\n",
       "      <td>2017-01-01 03:30:00</td>\n",
       "      <td>2017-01-01 03:45:00</td>\n",
       "    </tr>\n",
       "    <tr>\n",
       "      <th>11</th>\n",
       "      <td>2017-01-01 03:45:00</td>\n",
       "      <td>2017-01-01 04:00:00</td>\n",
       "    </tr>\n",
       "    <tr>\n",
       "      <th>12</th>\n",
       "      <td>2017-01-01 04:00:00</td>\n",
       "      <td>2017-01-01 04:15:00</td>\n",
       "    </tr>\n",
       "    <tr>\n",
       "      <th>13</th>\n",
       "      <td>2017-01-01 04:15:00</td>\n",
       "      <td>2017-01-01 04:30:00</td>\n",
       "    </tr>\n",
       "    <tr>\n",
       "      <th>14</th>\n",
       "      <td>2017-01-01 04:30:00</td>\n",
       "      <td>2017-01-01 04:45:00</td>\n",
       "    </tr>\n",
       "    <tr>\n",
       "      <th>15</th>\n",
       "      <td>2017-01-01 04:45:00</td>\n",
       "      <td>2017-01-01 05:00:00</td>\n",
       "    </tr>\n",
       "    <tr>\n",
       "      <th>16</th>\n",
       "      <td>2017-01-01 05:00:00</td>\n",
       "      <td>2017-01-01 05:15:00</td>\n",
       "    </tr>\n",
       "    <tr>\n",
       "      <th>17</th>\n",
       "      <td>2017-01-01 05:15:00</td>\n",
       "      <td>2017-01-01 05:30:00</td>\n",
       "    </tr>\n",
       "    <tr>\n",
       "      <th>18</th>\n",
       "      <td>2017-01-01 05:30:00</td>\n",
       "      <td>2017-01-01 05:45:00</td>\n",
       "    </tr>\n",
       "    <tr>\n",
       "      <th>19</th>\n",
       "      <td>2017-01-01 23:00:00</td>\n",
       "      <td>2017-01-01 23:15:00</td>\n",
       "    </tr>\n",
       "    <tr>\n",
       "      <th>20</th>\n",
       "      <td>2017-01-01 23:15:00</td>\n",
       "      <td>2017-01-01 23:30:00</td>\n",
       "    </tr>\n",
       "    <tr>\n",
       "      <th>21</th>\n",
       "      <td>2017-01-01 23:30:00</td>\n",
       "      <td>2017-01-01 23:45:00</td>\n",
       "    </tr>\n",
       "    <tr>\n",
       "      <th>22</th>\n",
       "      <td>2017-01-01 23:45:00</td>\n",
       "      <td>2017-01-02 00:00:00</td>\n",
       "    </tr>\n",
       "    <tr>\n",
       "      <th>23</th>\n",
       "      <td>2017-01-02 00:00:00</td>\n",
       "      <td>2017-01-02 00:15:00</td>\n",
       "    </tr>\n",
       "    <tr>\n",
       "      <th>24</th>\n",
       "      <td>2017-01-02 00:15:00</td>\n",
       "      <td>2017-01-02 00:30:00</td>\n",
       "    </tr>\n",
       "    <tr>\n",
       "      <th>25</th>\n",
       "      <td>2017-01-02 00:30:00</td>\n",
       "      <td>2017-01-02 00:45:00</td>\n",
       "    </tr>\n",
       "    <tr>\n",
       "      <th>26</th>\n",
       "      <td>2017-01-02 00:45:00</td>\n",
       "      <td>2017-01-02 01:00:00</td>\n",
       "    </tr>\n",
       "    <tr>\n",
       "      <th>27</th>\n",
       "      <td>2017-01-02 01:00:00</td>\n",
       "      <td>2017-01-02 01:15:00</td>\n",
       "    </tr>\n",
       "    <tr>\n",
       "      <th>28</th>\n",
       "      <td>2017-01-02 01:15:00</td>\n",
       "      <td>2017-01-02 01:30:00</td>\n",
       "    </tr>\n",
       "    <tr>\n",
       "      <th>29</th>\n",
       "      <td>2017-01-02 01:30:00</td>\n",
       "      <td>2017-01-02 01:45:00</td>\n",
       "    </tr>\n",
       "    <tr>\n",
       "      <th>30</th>\n",
       "      <td>2017-01-02 01:45:00</td>\n",
       "      <td>2017-01-02 02:00:00</td>\n",
       "    </tr>\n",
       "  </tbody>\n",
       "</table>\n",
       "</div>"
      ],
      "text/plain": [
       "                  From                  To\n",
       "0  2017-01-01 01:00:00 2017-01-01 01:15:00\n",
       "1  2017-01-01 01:15:00 2017-01-01 01:30:00\n",
       "2  2017-01-01 01:30:00 2017-01-01 01:45:00\n",
       "3  2017-01-01 01:45:00 2017-01-01 02:00:00\n",
       "4  2017-01-01 02:00:00 2017-01-01 02:15:00\n",
       "5  2017-01-01 02:15:00 2017-01-01 02:30:00\n",
       "6  2017-01-01 02:30:00 2017-01-01 02:45:00\n",
       "7  2017-01-01 02:45:00 2017-01-01 03:00:00\n",
       "8  2017-01-01 03:00:00 2017-01-01 03:15:00\n",
       "9  2017-01-01 03:15:00 2017-01-01 03:30:00\n",
       "10 2017-01-01 03:30:00 2017-01-01 03:45:00\n",
       "11 2017-01-01 03:45:00 2017-01-01 04:00:00\n",
       "12 2017-01-01 04:00:00 2017-01-01 04:15:00\n",
       "13 2017-01-01 04:15:00 2017-01-01 04:30:00\n",
       "14 2017-01-01 04:30:00 2017-01-01 04:45:00\n",
       "15 2017-01-01 04:45:00 2017-01-01 05:00:00\n",
       "16 2017-01-01 05:00:00 2017-01-01 05:15:00\n",
       "17 2017-01-01 05:15:00 2017-01-01 05:30:00\n",
       "18 2017-01-01 05:30:00 2017-01-01 05:45:00\n",
       "19 2017-01-01 23:00:00 2017-01-01 23:15:00\n",
       "20 2017-01-01 23:15:00 2017-01-01 23:30:00\n",
       "21 2017-01-01 23:30:00 2017-01-01 23:45:00\n",
       "22 2017-01-01 23:45:00 2017-01-02 00:00:00\n",
       "23 2017-01-02 00:00:00 2017-01-02 00:15:00\n",
       "24 2017-01-02 00:15:00 2017-01-02 00:30:00\n",
       "25 2017-01-02 00:30:00 2017-01-02 00:45:00\n",
       "26 2017-01-02 00:45:00 2017-01-02 01:00:00\n",
       "27 2017-01-02 01:00:00 2017-01-02 01:15:00\n",
       "28 2017-01-02 01:15:00 2017-01-02 01:30:00\n",
       "29 2017-01-02 01:30:00 2017-01-02 01:45:00\n",
       "30 2017-01-02 01:45:00 2017-01-02 02:00:00"
      ]
     },
     "execution_count": 13,
     "metadata": {},
     "output_type": "execute_result"
    }
   ],
   "source": [
    "# looping through rows and merge them\n",
    "del result\n",
    "result = pd.DataFrame()\n",
    "for i in range(len(df.To)):\n",
    "    result = result.append(fun(df.To[i],df.From[i], 15), ignore_index=True)\n",
    "    \n",
    "result"
   ]
  },
  {
   "cell_type": "code",
   "execution_count": null,
   "metadata": {
    "collapsed": true
   },
   "outputs": [],
   "source": []
  }
 ],
 "metadata": {
  "kernelspec": {
   "display_name": "Python 2",
   "language": "python",
   "name": "python2"
  },
  "language_info": {
   "codemirror_mode": {
    "name": "ipython",
    "version": 2
   },
   "file_extension": ".py",
   "mimetype": "text/x-python",
   "name": "python",
   "nbconvert_exporter": "python",
   "pygments_lexer": "ipython2",
   "version": "2.7.13"
  }
 },
 "nbformat": 4,
 "nbformat_minor": 2
}
