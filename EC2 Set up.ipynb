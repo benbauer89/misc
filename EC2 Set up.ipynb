{
 "cells": [
  {
   "cell_type": "markdown",
   "metadata": {},
   "source": [
    "# Connecting to EC2 instance from windows"
   ]
  },
  {
   "cell_type": "markdown",
   "metadata": {},
   "source": [
    "follow this explanation:  https://www.youtube.com/watch?v=mJaHARCfcA0\n",
    "        \n",
    "basic steps: \n",
    "    download .pem file from ec2 instance\n",
    "    create .ppk file based von .pem file\n",
    "    connect via putty (username depends ond AMI, while hostname equals the instance ID)"
   ]
  },
  {
   "cell_type": "markdown",
   "metadata": {},
   "source": [
    "# Install anaconda on AMI"
   ]
  },
  {
   "cell_type": "markdown",
   "metadata": {},
   "source": [
    "follow this explantion: https://www.digitalocean.com/community/tutorials/how-to-install-the-anaconda-python-distribution-on-ubuntu-16-04\n",
    "\n",
    "        \n",
    "basic steps:\n",
    "    chose releavnt anaconda version\n",
    "    might need to change path so that conda is used rather than default python version\n",
    "    editing path: export PATH=$PATH:/home/ec2-user/anaconda3/bin\n",
    "    ec2-user is the username for linux AMI and anconda 3 is used"
   ]
  },
  {
   "cell_type": "markdown",
   "metadata": {},
   "source": [
    "# Open EC2 Jupyter notebook and edit on local machine"
   ]
  },
  {
   "cell_type": "markdown",
   "metadata": {},
   "source": [
    "follow this explanation: https://towardsdatascience.com/setting-up-and-using-jupyter-notebooks-on-aws-61a9648db6c5\n",
    "\n",
    "on the AMI open jupyter via: jupyter notebook --no-browser --port=8888\n",
    "\n",
    "on local machine via terminal: \n",
    "ssh -i ec2_instance.pem -L 8000:localhost:8888 ec2-user@dns\n",
    "\n",
    "ec2_instance.pem: downloaded pem file\n",
    "ec2-user@dns_name usernmae and public dns name of the instance\n",
    "go to webbrower and hit: localhost:8000"
   ]
  },
  {
   "cell_type": "markdown",
   "metadata": {},
   "source": [
    "# Create snapshot of EC2 instance and stop instance after usage"
   ]
  },
  {
   "cell_type": "markdown",
   "metadata": {},
   "source": [
    "Based on this description: https://doyleax.github.io/Run-Jupyter-Notebook-from-EC2/\n",
    "\n",
    "When done stop the instance"
   ]
  }
 ],
 "metadata": {
  "kernelspec": {
   "display_name": "Python 2",
   "language": "python",
   "name": "python2"
  },
  "language_info": {
   "codemirror_mode": {
    "name": "ipython",
    "version": 2
   },
   "file_extension": ".py",
   "mimetype": "text/x-python",
   "name": "python",
   "nbconvert_exporter": "python",
   "pygments_lexer": "ipython2",
   "version": "2.7.13"
  }
 },
 "nbformat": 4,
 "nbformat_minor": 2
}
